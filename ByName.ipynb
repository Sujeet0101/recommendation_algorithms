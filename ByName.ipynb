{
 "cells": [
  {
   "cell_type": "code",
   "execution_count": 27,
   "id": "1163d759",
   "metadata": {},
   "outputs": [
    {
     "data": {
      "text/plain": [
       "'C:\\\\Users\\\\DELL\\\\Code'"
      ]
     },
     "execution_count": 27,
     "metadata": {},
     "output_type": "execute_result"
    }
   ],
   "source": [
    "import os\n",
    "os.getcwd()"
   ]
  },
  {
   "cell_type": "code",
   "execution_count": 28,
   "id": "b33ac13c",
   "metadata": {},
   "outputs": [],
   "source": [
    "import pandas as pd\n",
    "import numpy as np"
   ]
  },
  {
   "cell_type": "code",
   "execution_count": 29,
   "id": "00c3048e",
   "metadata": {},
   "outputs": [
    {
     "data": {
      "text/html": [
       "<div>\n",
       "<style scoped>\n",
       "    .dataframe tbody tr th:only-of-type {\n",
       "        vertical-align: middle;\n",
       "    }\n",
       "\n",
       "    .dataframe tbody tr th {\n",
       "        vertical-align: top;\n",
       "    }\n",
       "\n",
       "    .dataframe thead th {\n",
       "        text-align: right;\n",
       "    }\n",
       "</style>\n",
       "<table border=\"1\" class=\"dataframe\">\n",
       "  <thead>\n",
       "    <tr style=\"text-align: right;\">\n",
       "      <th></th>\n",
       "      <th>Hid</th>\n",
       "      <th>HostelName</th>\n",
       "      <th>District</th>\n",
       "      <th>Place_City</th>\n",
       "      <th>HostelType</th>\n",
       "      <th>Facilities</th>\n",
       "      <th>Description</th>\n",
       "      <th>Tags</th>\n",
       "    </tr>\n",
       "  </thead>\n",
       "  <tbody>\n",
       "    <tr>\n",
       "      <th>0</th>\n",
       "      <td>1</td>\n",
       "      <td>Big Bell Boys Hostel</td>\n",
       "      <td>Bhaktapur</td>\n",
       "      <td>Tibukche Tol</td>\n",
       "      <td>Boys</td>\n",
       "      <td>Wifi,HotandColdWater,Parking,Laundary,CCTV,Gym...</td>\n",
       "      <td>peaceful environment</td>\n",
       "      <td>Bhaktapur Tibukche Tol Boys Wifi,HotandColdWat...</td>\n",
       "    </tr>\n",
       "    <tr>\n",
       "      <th>1</th>\n",
       "      <td>2</td>\n",
       "      <td>Friends Boys Hostel</td>\n",
       "      <td>Bhaktapur</td>\n",
       "      <td>Dokchee</td>\n",
       "      <td>Boys</td>\n",
       "      <td>Wifi,HotandColdWater,Parking,Laundary,Fan</td>\n",
       "      <td>located at the heart of the city</td>\n",
       "      <td>Bhaktapur Dokchee Boys Wifi,HotandColdWater,Pa...</td>\n",
       "    </tr>\n",
       "    <tr>\n",
       "      <th>2</th>\n",
       "      <td>3</td>\n",
       "      <td>Golden Gate Boys Hostel</td>\n",
       "      <td>Bhaktapur</td>\n",
       "      <td>Talako</td>\n",
       "      <td>Boys</td>\n",
       "      <td>Wifi,HotandColdWater,Laundary,CCTV,Gym,Fan</td>\n",
       "      <td>friendly staff, proper clenliness</td>\n",
       "      <td>Bhaktapur Talako Boys Wifi,HotandColdWater,Lau...</td>\n",
       "    </tr>\n",
       "    <tr>\n",
       "      <th>3</th>\n",
       "      <td>4</td>\n",
       "      <td>Ajima Girls Hostel</td>\n",
       "      <td>Bhaktapur</td>\n",
       "      <td>Ghakha</td>\n",
       "      <td>Girls</td>\n",
       "      <td>Wifi,HotandColdWater,Parking,CCTV,Gym</td>\n",
       "      <td>peaceful environment</td>\n",
       "      <td>Bhaktapur Ghakha Girls Wifi,HotandColdWater,Pa...</td>\n",
       "    </tr>\n",
       "    <tr>\n",
       "      <th>4</th>\n",
       "      <td>5</td>\n",
       "      <td>Manjushree Girls Hostel</td>\n",
       "      <td>Bhaktapur</td>\n",
       "      <td>Dudhpati</td>\n",
       "      <td>Girls</td>\n",
       "      <td>Wifi,HotandColdWater,Parking</td>\n",
       "      <td>peaceful environment</td>\n",
       "      <td>Bhaktapur Dudhpati Girls Wifi,HotandColdWater,...</td>\n",
       "    </tr>\n",
       "  </tbody>\n",
       "</table>\n",
       "</div>"
      ],
      "text/plain": [
       "   Hid               HostelName   District    Place_City HostelType  \\\n",
       "0    1     Big Bell Boys Hostel  Bhaktapur  Tibukche Tol       Boys   \n",
       "1    2      Friends Boys Hostel  Bhaktapur       Dokchee       Boys   \n",
       "2    3  Golden Gate Boys Hostel  Bhaktapur        Talako       Boys   \n",
       "3    4       Ajima Girls Hostel  Bhaktapur        Ghakha      Girls   \n",
       "4    5  Manjushree Girls Hostel  Bhaktapur      Dudhpati      Girls   \n",
       "\n",
       "                                          Facilities  \\\n",
       "0  Wifi,HotandColdWater,Parking,Laundary,CCTV,Gym...   \n",
       "1          Wifi,HotandColdWater,Parking,Laundary,Fan   \n",
       "2         Wifi,HotandColdWater,Laundary,CCTV,Gym,Fan   \n",
       "3              Wifi,HotandColdWater,Parking,CCTV,Gym   \n",
       "4                       Wifi,HotandColdWater,Parking   \n",
       "\n",
       "                         Description  \\\n",
       "0               peaceful environment   \n",
       "1   located at the heart of the city   \n",
       "2  friendly staff, proper clenliness   \n",
       "3               peaceful environment   \n",
       "4               peaceful environment   \n",
       "\n",
       "                                                Tags  \n",
       "0  Bhaktapur Tibukche Tol Boys Wifi,HotandColdWat...  \n",
       "1  Bhaktapur Dokchee Boys Wifi,HotandColdWater,Pa...  \n",
       "2  Bhaktapur Talako Boys Wifi,HotandColdWater,Lau...  \n",
       "3  Bhaktapur Ghakha Girls Wifi,HotandColdWater,Pa...  \n",
       "4  Bhaktapur Dudhpati Girls Wifi,HotandColdWater,...  "
      ]
     },
     "execution_count": 29,
     "metadata": {},
     "output_type": "execute_result"
    }
   ],
   "source": [
    "dataset = pd.read_excel(\"processed_dataset.xlsx\")\n",
    "dataset.head()"
   ]
  },
  {
   "cell_type": "code",
   "execution_count": 30,
   "id": "097e52c9",
   "metadata": {},
   "outputs": [],
   "source": [
    "dataset = dataset[['Hid','HostelName','Tags']]\n"
   ]
  },
  {
   "cell_type": "code",
   "execution_count": 31,
   "id": "418deb37",
   "metadata": {},
   "outputs": [
    {
     "data": {
      "text/html": [
       "<div>\n",
       "<style scoped>\n",
       "    .dataframe tbody tr th:only-of-type {\n",
       "        vertical-align: middle;\n",
       "    }\n",
       "\n",
       "    .dataframe tbody tr th {\n",
       "        vertical-align: top;\n",
       "    }\n",
       "\n",
       "    .dataframe thead th {\n",
       "        text-align: right;\n",
       "    }\n",
       "</style>\n",
       "<table border=\"1\" class=\"dataframe\">\n",
       "  <thead>\n",
       "    <tr style=\"text-align: right;\">\n",
       "      <th></th>\n",
       "      <th>Hid</th>\n",
       "      <th>HostelName</th>\n",
       "      <th>Tags</th>\n",
       "    </tr>\n",
       "  </thead>\n",
       "  <tbody>\n",
       "    <tr>\n",
       "      <th>0</th>\n",
       "      <td>1</td>\n",
       "      <td>Big Bell Boys Hostel</td>\n",
       "      <td>Bhaktapur Tibukche Tol Boys Wifi,HotandColdWat...</td>\n",
       "    </tr>\n",
       "    <tr>\n",
       "      <th>1</th>\n",
       "      <td>2</td>\n",
       "      <td>Friends Boys Hostel</td>\n",
       "      <td>Bhaktapur Dokchee Boys Wifi,HotandColdWater,Pa...</td>\n",
       "    </tr>\n",
       "    <tr>\n",
       "      <th>2</th>\n",
       "      <td>3</td>\n",
       "      <td>Golden Gate Boys Hostel</td>\n",
       "      <td>Bhaktapur Talako Boys Wifi,HotandColdWater,Lau...</td>\n",
       "    </tr>\n",
       "    <tr>\n",
       "      <th>3</th>\n",
       "      <td>4</td>\n",
       "      <td>Ajima Girls Hostel</td>\n",
       "      <td>Bhaktapur Ghakha Girls Wifi,HotandColdWater,Pa...</td>\n",
       "    </tr>\n",
       "    <tr>\n",
       "      <th>4</th>\n",
       "      <td>5</td>\n",
       "      <td>Manjushree Girls Hostel</td>\n",
       "      <td>Bhaktapur Dudhpati Girls Wifi,HotandColdWater,...</td>\n",
       "    </tr>\n",
       "  </tbody>\n",
       "</table>\n",
       "</div>"
      ],
      "text/plain": [
       "   Hid               HostelName  \\\n",
       "0    1     Big Bell Boys Hostel   \n",
       "1    2      Friends Boys Hostel   \n",
       "2    3  Golden Gate Boys Hostel   \n",
       "3    4       Ajima Girls Hostel   \n",
       "4    5  Manjushree Girls Hostel   \n",
       "\n",
       "                                                Tags  \n",
       "0  Bhaktapur Tibukche Tol Boys Wifi,HotandColdWat...  \n",
       "1  Bhaktapur Dokchee Boys Wifi,HotandColdWater,Pa...  \n",
       "2  Bhaktapur Talako Boys Wifi,HotandColdWater,Lau...  \n",
       "3  Bhaktapur Ghakha Girls Wifi,HotandColdWater,Pa...  \n",
       "4  Bhaktapur Dudhpati Girls Wifi,HotandColdWater,...  "
      ]
     },
     "execution_count": 31,
     "metadata": {},
     "output_type": "execute_result"
    }
   ],
   "source": [
    "dataset.head()"
   ]
  },
  {
   "cell_type": "code",
   "execution_count": 32,
   "id": "38e3e72b",
   "metadata": {},
   "outputs": [
    {
     "data": {
      "text/plain": [
       "0     Bhaktapur Tibukche Tol Boys Wifi,HotandColdWat...\n",
       "1     Bhaktapur Dokchee Boys Wifi,HotandColdWater,Pa...\n",
       "2     Bhaktapur Talako Boys Wifi,HotandColdWater,Lau...\n",
       "3     Bhaktapur Ghakha Girls Wifi,HotandColdWater,Pa...\n",
       "4     Bhaktapur Dudhpati Girls Wifi,HotandColdWater,...\n",
       "                            ...                        \n",
       "75    Kathmandu Koteshwor Girls Wifi,HotandColdWater...\n",
       "76    Kathmandu sukhedhara Girls Wifi,HotandColdWate...\n",
       "77    Kathmandu kapan Girls Wifi,HotandColdWater,Par...\n",
       "78    Kathmandu Rato pul Girls Wifi,HotandColdWater,...\n",
       "79    Kathmandu shankhamul Girls Wifi,HotandColdWate...\n",
       "Name: Tags, Length: 80, dtype: object"
      ]
     },
     "execution_count": 32,
     "metadata": {},
     "output_type": "execute_result"
    }
   ],
   "source": [
    "dataset['Tags']"
   ]
  },
  {
   "cell_type": "code",
   "execution_count": 33,
   "id": "99d2724e",
   "metadata": {},
   "outputs": [],
   "source": [
    "from sklearn.feature_extraction.text import TfidfVectorizer\n",
    "tfidf = TfidfVectorizer(stop_words='english')"
   ]
  },
  {
   "cell_type": "code",
   "execution_count": 34,
   "id": "9f11a30e",
   "metadata": {},
   "outputs": [],
   "source": [
    "tfidf_matrix = tfidf.fit_transform(new_dataset['Tags'])"
   ]
  },
  {
   "cell_type": "code",
   "execution_count": 35,
   "id": "cc4fe65e",
   "metadata": {},
   "outputs": [],
   "source": [
    "from sklearn.metrics.pairwise import linear_kernel"
   ]
  },
  {
   "cell_type": "code",
   "execution_count": 36,
   "id": "053f49b6",
   "metadata": {},
   "outputs": [],
   "source": [
    "cosine_sim = linear_kernel(tfidf_matrix, tfidf_matrix)"
   ]
  },
  {
   "cell_type": "code",
   "execution_count": 37,
   "id": "92accb7a",
   "metadata": {},
   "outputs": [
    {
     "data": {
      "text/plain": [
       "HostelName\n",
       "Big Bell Boys Hostel        0\n",
       "Friends Boys Hostel         1\n",
       "Golden Gate Boys Hostel     2\n",
       "Ajima Girls Hostel          3\n",
       "Manjushree Girls Hostel     4\n",
       "                           ..\n",
       "Rigel Girls Hostel         75\n",
       " Pricha Girls Hostel       76\n",
       "Suhana Girls Hostel        77\n",
       "Beehive Girls Hostel       78\n",
       "Samikshya Girls Hostel     79\n",
       "Length: 80, dtype: int64"
      ]
     },
     "execution_count": 37,
     "metadata": {},
     "output_type": "execute_result"
    }
   ],
   "source": [
    "indices = pd.Series(dataset.index, index=dataset['HostelName'])\n",
    "indices"
   ]
  },
  {
   "cell_type": "code",
   "execution_count": 38,
   "id": "a8e5079f",
   "metadata": {},
   "outputs": [],
   "source": [
    "def get_recommendations(name, cosine_sim=cosine_sim):\n",
    "    idx = indices[name]\n",
    "    sim_scores = enumerate(cosine_sim[idx])\n",
    "    sim_scores = sorted(sim_scores, key=lambda x: x[1], reverse=True)\n",
    "    sim_scores = sim_scores[0:5]\n",
    "    \n",
    "    sim_index = [i[0] for i in sim_scores]\n",
    "    print(dataset[\"HostelName\"].iloc[sim_index])    "
   ]
  },
  {
   "cell_type": "code",
   "execution_count": 39,
   "id": "37148a6f",
   "metadata": {},
   "outputs": [
    {
     "name": "stdout",
     "output_type": "stream",
     "text": [
      "4       Manjushree Girls Hostel\n",
      "10          Krishna Boys Hostel\n",
      "3            Ajima Girls Hostel\n",
      "9     Siddhi Laxmi Girls Hostel\n",
      "33                 Women Hostel\n",
      "Name: HostelName, dtype: object\n"
     ]
    }
   ],
   "source": [
    "get_recommendations('Manjushree Girls Hostel')"
   ]
  },
  {
   "cell_type": "code",
   "execution_count": null,
   "id": "9035f24e",
   "metadata": {},
   "outputs": [],
   "source": []
  }
 ],
 "metadata": {
  "kernelspec": {
   "display_name": "Python 3 (ipykernel)",
   "language": "python",
   "name": "python3"
  },
  "language_info": {
   "codemirror_mode": {
    "name": "ipython",
    "version": 3
   },
   "file_extension": ".py",
   "mimetype": "text/x-python",
   "name": "python",
   "nbconvert_exporter": "python",
   "pygments_lexer": "ipython3",
   "version": "3.10.5"
  }
 },
 "nbformat": 4,
 "nbformat_minor": 5
}
